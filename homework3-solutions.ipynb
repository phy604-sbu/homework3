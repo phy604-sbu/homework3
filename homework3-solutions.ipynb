{
 "cells": [
  {
   "cell_type": "markdown",
   "metadata": {},
   "source": [
    "# PHY 604: Homework #3 Solutions"
   ]
  },
  {
   "cell_type": "code",
   "execution_count": 5,
   "metadata": {
    "collapsed": true
   },
   "outputs": [],
   "source": [
    "import numpy as np\n",
    "import matplotlib.pyplot as plt\n",
    "%matplotlib inline"
   ]
  },
  {
   "cell_type": "markdown",
   "metadata": {},
   "source": [
    "<div style=\"background-color: powderblue; color: black; padding: 10px;\">\n",
    "1. _Periodic tridiagonal_. In class, we saw how to write a\n",
    " Gaussian elimination routine for a tridiagonal matrix.  Here we\n",
    " build on that, with one little twist.  Consider the system below:\n",
    " \\begin{equation}\n",
    "   \\left ( \\begin{array}{ccccccc}\n",
    "     b_0    & c_0 &        &        &        &        & a_0 \\\\\n",
    "     a_1    & b_1 & c_1    &        &        &  \\\\\n",
    "            & a_2 & b_2    & c_2  \\\\\n",
    "            &     & \\ddots & \\ddots & \\ddots \\\\\n",
    "            &     &        & \\ddots & \\ddots & \\ddots \\\\\n",
    "            &     &        &        & a_{N-1}& b_{N-1}& c_{N-1} \\\\\n",
    "     c_{N}  &     &        &        &        & a_{N}& b_{N} \\\\\n",
    "  \\end{array}\\right )\n",
    "   \\left ( \\begin{array}{c}\n",
    "     x_0 \\\\ x_1 \\\\ x_2 \\\\ \\vdots \\\\ \\vdots \\\\ x_{N-1} \\\\ x_{N} \n",
    "   \\end{array} \\right )\n",
    "   =\n",
    "   \\left ( \\begin{array}{c}\n",
    "     d_0 \\\\ d_1 \\\\ d_2 \\\\ \\vdots \\\\ \\vdots \\\\ d_{N-1} \\\\ d_{N} \n",
    "   \\end{array} \\right )\n",
    " \\end{equation} \n",
    " Now there are two additional elements, in the far corners.  Also note\n",
    " that as written, this is an $N+1 \\times N+1$ matrix.  This type\n",
    " of matrix arises when you enforce periodic boundary conditions on a\n",
    " system (for example, if we had done so in the cubic splines instead\n",
    " of the natural boundary conditions).\n",
    "\n",
    " <p>We can solve this type of linear system efficiently using a method\n",
    " called the Thomas algorithm.  First we eliminate the last row and\n",
    " last column.  This gives an $N\\times N$ system of the form:\n",
    " \\begin{equation}\n",
    "   \\underbrace{\n",
    "   \\left ( \\begin{array}{ccccccc}\n",
    "     b_0    & c_0 &        &        &        &        & \\\\\n",
    "     a_1    & b_1 & c_1    &        &        &  \\\\\n",
    "            & a_2 & b_2    & c_2  \\\\\n",
    "            &     & \\ddots & \\ddots & \\ddots \\\\\n",
    "            &     &        & \\ddots & \\ddots & \\ddots \\\\\n",
    "            &     &        &        & a_{N-2}& b_{N-2}& c_{N-2} \\\\\n",
    "            &     &        &        &        & a_{N-1}& b_{N-1} \\\\\n",
    "  \\end{array}\\right )}_{\\equiv A^c}\n",
    "  \\underbrace{\n",
    "   \\left ( \\begin{array}{c}\n",
    "     x_0 \\\\ x_1 \\\\ x_2 \\\\ \\vdots \\\\ \\vdots \\\\ x_{N-2} \\\\ x_{N-1} \n",
    "   \\end{array} \\right )}_{\\equiv \\tilde{x}}\n",
    "   =\n",
    "   \\underbrace{\n",
    "   \\left ( \\begin{array}{c}\n",
    "     d_0 \\\\ d_1 \\\\ d_2 \\\\ \\vdots \\\\ \\vdots \\\\ d_{N-2}\\\\ d_{N-1}  \n",
    "   \\end{array} \\right )}_{\\equiv \\tilde{d}} +\n",
    "   \\underbrace{\n",
    "   \\left ( \\begin{array}{c}\n",
    "     -a_0 \\\\ 0 \\\\ 0 \\\\ \\vdots \\\\ \\vdots \\\\ 0\\\\ -c_{N-1}  \n",
    "   \\end{array} \\right )}_{\\equiv \\tilde{\\eta}} x_N\n",
    " \\end{equation} \n",
    " Here $\\eta$ arises from looking at which terms in the first $N$ rows\n",
    " of the original matrix involve the $x_N$ element in the solution vector\n",
    " that we are cutting out.  Note that the $\\eta$ vector multiplies $x_N$.\n",
    "\n",
    " <p>This system is linear, so we can imagine a solution of the form:\n",
    " \\begin{equation}\n",
    "   \\tilde{x} = x^{(\\alpha)} + x^{(\\beta)} x_N\n",
    " \\end{equation}\n",
    " \n",
    " <p>Substituting this into our new linear system, we see:\n",
    " \\begin{equation}\n",
    "   A^c \\tilde{x} = A^c x^{(\\alpha)} + A^c x^{(\\beta)} x_N = \\tilde{d} + \\eta x_N\n",
    " \\end{equation}\n",
    "\n",
    " <p>This means that we can solve \n",
    " $$A^c x^{(\\alpha)} = \\tilde{d}$$\n",
    " $$A^c x^{(\\beta)} = \\eta$$\n",
    " to get $x^{(\\alpha)}$ and $x^{(\\beta)}$.  \n",
    "</div>"
   ]
  },
  {
   "cell_type": "markdown",
   "metadata": {},
   "source": [
    " <div style=\"background-color: powderblue; color: black; padding: 10px;\">\n",
    " (a) With $x^{(\\alpha)}$ and $x^{(\\beta)}$ found, we can find $x_N$ by looking\n",
    "   at the last row of our original system:\n",
    "   \\begin{equation}\n",
    "     c_N x_0 + a_N x_{N-1} + b_N x_N = d_N\n",
    "   \\end{equation}\n",
    "   Substitute in the definition of $x_0$ and $x_{N-1}$ from our vector $\\tilde{x}$\n",
    "   and show that \n",
    "   \\begin{equation}\n",
    "     x_N = \\frac{d_N - c_N x_0^{(\\alpha)} - a_N x_{N-1}^{(\\alpha)}}{c_N x_0^{(\\beta)} + a_N x_{N-1}^{(\\beta)} + b_N}\n",
    "   \\end{equation}\n",
    "</div>"
   ]
  },
  {
   "cell_type": "markdown",
   "metadata": {},
   "source": [
    "The last row of the original system is:\n",
    "\\begin{equation}\n",
    "c_N x_0 + a_N x_{N-1} + b_N x_N = d_N\n",
    "\\end{equation}\n",
    "\n",
    "Substituting our defintion of $\\tilde{x}$, we have:\n",
    "\\begin{equation}\n",
    "c_N (x_0^{(\\alpha)} + x_0^{(\\beta)} x_N ) + a_N (x_{N-1}^{(\\alpha)} + x_{N-1}^{(\\beta)} x_N) b_N x_N = d_N\n",
    "\\end{equation}\n",
    "\n",
    "Solving for $x_N$, we have:\n",
    "\\begin{equation}\n",
    "x_N (c_N x_0^{(\\beta)} + a_N x_{N-1}^{(\\beta)} + b_N) = d_N - c_N x_0^{(\\alpha)} - a_N x_{N-1}^{(\\alpha)}\n",
    "\\end{equation}\n",
    "giving us:\n",
    "\\begin{equation}\n",
    "x_N = \\frac{d_N - c_N x_0^{(\\alpha)} - a_N x_{N-1}^{(\\alpha)}}{c_N x_0^{(\\beta)} + a_N x_{N-1}^{(\\beta)} + b_N}\n",
    "\\end{equation}"
   ]
  },
  {
   "cell_type": "markdown",
   "metadata": {},
   "source": [
    "<div style=\"background-color: powderblue; color: black; padding: 10px;\">\n",
    "(b) We can now get the remaining values of $x$ as $\\tilde{x} = x^{(\\alpha)} + x^{(\\beta)} x_N$.\n",
    "\n",
    "<p>Write a code to solve this periodic tridiagonal system.  Test it by\n",
    "   writing a corresponding matrix-vector multiply code and find the\n",
    "   solution for a matrix of the form $b_i = 4$ and $a_i = c_i = 1$ for\n",
    "   $i = 0, \\ldots N$.\n",
    "\n",
    "</div>"
   ]
  },
  {
   "cell_type": "markdown",
   "metadata": {},
   "source": [
    "First, here's a function that does the periodic tridiagonal solve -- we take 4 vectors: the 3 diagonals and the RHS, and return the solution.  This routine makes use of the standard tridiagonal solver (below) that we discussed in class."
   ]
  },
  {
   "cell_type": "code",
   "execution_count": 1,
   "metadata": {
    "collapsed": true
   },
   "outputs": [],
   "source": [
    "def tridiag_periodic(a, b, c, d):\n",
    "    \"\"\" Solve the periodic tridiagonal system of the form:\n",
    "\n",
    "     / b_0  c_0             a_0 \\\n",
    "     | a_1  b_1  c_1             |\n",
    "     |      a_2  b_2  c_2        |\n",
    "     |         .    .    .       |\n",
    "     |            .    .    .    |\n",
    "     |               .    .      |\n",
    "     \\ c_N            a_N    b_N /\n",
    "\n",
    "    we do this via the Thomas algorithm\n",
    "    \"\"\"\n",
    "\n",
    "    # we'll consider the matrix to be (N+1) x (N+1) elements\n",
    "    # and we'll break it into an NxN and extra\n",
    "    N = len(a)-1\n",
    "\n",
    "    if not len(a) == len(b) == len(c) == len(d):\n",
    "        raise ValueError(\"all inputs should be of the same length\")\n",
    "\n",
    "    # our solution\n",
    "    x = np.zeros_like(a)\n",
    "\n",
    "    # consider the sub-matrix that eliminates the last row and column\n",
    "    ac = a[0:N]\n",
    "    bc = b[0:N]\n",
    "    cc = c[0:N]\n",
    "    dc = d[0:N]\n",
    "\n",
    "    # we will express the solution as x = xa + xb*xn, where xn is the\n",
    "    # last component in the solution vector\n",
    "\n",
    "    xa = np.zeros((N), dtype=np.float64)\n",
    "    xb = np.zeros((N), dtype=np.float64)\n",
    "\n",
    "    # solve Ac xa = dc\n",
    "    xa = tridiag(ac, bc, cc, dc)\n",
    "\n",
    "    # the second solution uses information from the column we cut\n",
    "    # out\n",
    "    eta = np.zeros_like(xa)\n",
    "    eta[0] = -ac[0]\n",
    "    eta[N-1] = -cc[N-1]\n",
    "\n",
    "    # solve Ac xb = eta\n",
    "    xb = tridiag(ac, bc, cc, eta)\n",
    "\n",
    "    # now we can compute xn\n",
    "    x[N] = (d[N] - c[N]*xa[0] - a[N]*xa[N-1])/(c[N]*xb[0] + a[N]*xb[N-1] + b[N])\n",
    "\n",
    "    # now the remaining solutions\n",
    "    x[0:N] = xa + xb*x[N]\n",
    "\n",
    "    return x"
   ]
  },
  {
   "cell_type": "markdown",
   "metadata": {},
   "source": [
    "Here's the standard tridiagonal solver from class.  It takes the same arguments and returns the solution.  This does not assume periodicity."
   ]
  },
  {
   "cell_type": "code",
   "execution_count": 2,
   "metadata": {
    "collapsed": true
   },
   "outputs": [],
   "source": [
    "def tridiag(a, b, c, d):\n",
    "    \"\"\"This is the normal (non-periodic) solver.\n",
    "\n",
    "    solve the linear system Ax = d where A has the form:\n",
    "\n",
    "      a_i x_{i-1} + b_i x_i + c_i x_{i+1} = d_i\n",
    "\n",
    "    for i = 0, n-1 with a_0 = 0 and c_{n-1} = 0\n",
    "\n",
    "    In matrix form, b is the main diagonal, a is the subdiagonal and c\n",
    "    is the superdiagonal.\n",
    "\n",
    "    \"\"\"\n",
    "\n",
    "    N = len(a)\n",
    "    if not len(b) == len(c) == len(d) == N:\n",
    "        print(\"ERROR: vectors not the right size\")\n",
    "        return None\n",
    "\n",
    "    # forward elimination\n",
    "    cprime = np.zeros((N), dtype=a.dtype)\n",
    "    dprime = np.zeros((N), dtype=a.dtype)\n",
    "\n",
    "    cprime[0] = c[0]/b[0]\n",
    "    dprime[0] = d[0]/b[0]\n",
    "\n",
    "    for i in range(1, N-1):\n",
    "        cprime[i] = c[i]/(b[i] - cprime[i-1]*a[i])\n",
    "        dprime[i] = (d[i] - dprime[i-1]*a[i])/(b[i] - cprime[i-1]*a[i])\n",
    "\n",
    "    dprime[N-1] = (d[N-1] - dprime[N-2]*a[N-1])/(b[N-1] - cprime[N-2]*a[N-1])\n",
    "\n",
    "    # back substitution\n",
    "    x = np.zeros((N), dtype=a.dtype)\n",
    "\n",
    "    x[N-1] = dprime[N-1]\n",
    "    for i in reversed(range(0, N-1)):\n",
    "        x[i] = dprime[i] - cprime[i]*x[i+1]\n",
    "\n",
    "    return x"
   ]
  },
  {
   "cell_type": "markdown",
   "metadata": {},
   "source": [
    "To test it all out, here's a function that takes a periodic tridiagonal matrix and multiplies it by a vector x:"
   ]
  },
  {
   "cell_type": "code",
   "execution_count": 3,
   "metadata": {
    "collapsed": true
   },
   "outputs": [],
   "source": [
    "def tridiag_periodic_Ax(a, b, c, x):\n",
    "    \"\"\" multiply the tridiagonal matrix A by vector x and return the\n",
    "        product vector d \"\"\"\n",
    "\n",
    "    N = len(a)\n",
    "    if not len(b) == len(c) == len(x) == N:\n",
    "        print(\"ERROR: vectors not the right size\")\n",
    "        return None\n",
    "\n",
    "    d = np.zeros((N), dtype=a.dtype)\n",
    "\n",
    "    d[0] = b[0]*x[0] + c[0]*x[1] + a[0]*x[N-1]\n",
    "    for i in range(1, N-1):\n",
    "        d[i] = a[i]*x[i-1] + b[i]*x[i] + c[i]*x[i+1]\n",
    "\n",
    "    d[N-1] = a[N-1]*x[N-2] + b[N-1]*x[N-1] + c[N-1]*x[0]\n",
    "\n",
    "    return d"
   ]
  },
  {
   "cell_type": "code",
   "execution_count": 7,
   "metadata": {},
   "outputs": [
    {
     "name": "stdout",
     "output_type": "stream",
     "text": [
      "[  0.   1.   2.   3.   4.   5.   6.   7.   8.   9.  10.  11.  12.  13.  14.\n",
      "  15.  16.  17.  18.  19.]\n",
      "[  0.   1.   2.   3.   4.   5.   6.   7.   8.   9.  10.  11.  12.  13.  14.\n",
      "  15.  16.  17.  18.  19.]\n"
     ]
    }
   ],
   "source": [
    "N = 20\n",
    "a = np.zeros(N, dtype=np.float64)\n",
    "b = np.zeros(N, dtype=np.float64)\n",
    "c = np.zeros(N, dtype=np.float64)\n",
    "d = np.zeros(N, dtype=np.float64)\n",
    "x = np.zeros(N, dtype=np.float64)\n",
    "\n",
    "# this is the form that the problem specified\n",
    "a[:] = 1.0\n",
    "b[:] = 4.0\n",
    "c[:] = 1.0\n",
    "\n",
    "# we'll start by picking the solution, then use our matrix multiplication\n",
    "# routine to compute the RHS corresponding to this solution\n",
    "x[:] = np.arange(N)\n",
    "\n",
    "d = tridiag_periodic_Ax(a, b, c, x)\n",
    "print(x)\n",
    "\n",
    "# now we'll try to recover the solution by using our periodic tridiagonal\n",
    "# solver\n",
    "xnew = tridiag_periodic(a, b, c, d)\n",
    "\n",
    "print(xnew)"
   ]
  },
  {
   "cell_type": "markdown",
   "metadata": {},
   "source": [
    "<div style=\"background-color: powderblue; color: black; padding: 10px;\">\n",
    "2. _Matrix inverse_ (based on Garcia) An iterative method for\n",
    "  constructing the matrix inverse can be found via Newton's method.  A\n",
    "  single step in the iteration appears as:\n",
    "  \\begin{equation}\n",
    "    {\\bf X}^{(k+1)} = 2 {\\bf X}^{(k)} - {\\bf X}^{(k)} {\\bf A} {\\bf X}^{(k)}\n",
    "  \\end{equation}\n",
    "  where ${\\bf A}$ is the matrix whose inverse we seek and ${\\bf X}^{(k)}$ is\n",
    "  our current guess for the inverse.\n",
    "\n",
    " <p> Find the inverse of the following matrix using this technique:\n",
    "  \\begin{equation}\n",
    "  {\\bf A} = \\left ( \\begin{array}{cccc}\n",
    "     4 &  3 & 4 & 10 \\\\ \n",
    "     2 & -7 & 3 &  0 \\\\ \n",
    "    -2 & 11 & 1 &  3 \\\\\n",
    "     3 & -4 & 0 &  2\n",
    "   \\end{array} \\right )\n",
    "  \\end{equation}\n",
    "\n",
    "  <p>You will need to supply an initial guess and a desired tolerance.\n",
    "  Be careful with your initial guess---some choices will diverge.\n",
    "  Think about the operations that are taking place in the first\n",
    "  iteration to help you devise a good initial guess for ${\\bf\n",
    "    A}^{-1}$.  It will probably help to put some prints in there (or\n",
    "  work out a $2\\times 2$ case analytically).\n",
    "</div>"
   ]
  },
  {
   "cell_type": "markdown",
   "metadata": {},
   "source": [
    "The main difficulty here is picking a suitable guess for the inverse.  The paper sent around via e-mail suggested something of the form:\n",
    "$${\\bf X}^{(0)} = \\alpha {\\bf A}^\\intercal$$\n",
    "where $\\alpha$ is a small positive number.  We'll use the maximum element squared."
   ]
  },
  {
   "cell_type": "code",
   "execution_count": 8,
   "metadata": {
    "collapsed": true
   },
   "outputs": [],
   "source": [
    "tol = 1.e-12\n",
    "\n",
    "def iter_inverse(A, Ainv0):\n",
    "    \"\"\" here A is the matrix and Ainv0 is an initial guess to the\n",
    "        inverse \"\"\"\n",
    "\n",
    "    Ainv = Ainv0.copy()\n",
    "\n",
    "    err = 1.e10\n",
    "\n",
    "    iter = 0\n",
    "    while err > tol:\n",
    "        Ainv_new = 2.0*Ainv - np.dot(Ainv, np.dot(A, Ainv))\n",
    "\n",
    "        err = np.max(np.abs(Ainv - Ainv_new))\n",
    "\n",
    "        Ainv = Ainv_new.copy()\n",
    "\n",
    "        iter += 1\n",
    "\n",
    "\n",
    "    print(\"number of iterations = \", iter)\n",
    "\n",
    "    return Ainv"
   ]
  },
  {
   "cell_type": "code",
   "execution_count": 11,
   "metadata": {},
   "outputs": [
    {
     "data": {
      "text/plain": [
       "array([[  4.,   3.,   4.,  10.],\n",
       "       [  2.,  -7.,   3.,   0.],\n",
       "       [ -2.,  11.,   1.,   3.],\n",
       "       [  3.,  -4.,   0.,   2.]])"
      ]
     },
     "execution_count": 11,
     "metadata": {},
     "output_type": "execute_result"
    }
   ],
   "source": [
    "A = np.array([ [ 4,  3, 4, 10],\n",
    "               [ 2, -7, 3,  0],\n",
    "               [-2, 11, 1,  3],\n",
    "               [ 3, -4, 0,  2] ], dtype=np.float64)\n",
    "A"
   ]
  },
  {
   "cell_type": "code",
   "execution_count": 12,
   "metadata": {},
   "outputs": [
    {
     "data": {
      "text/plain": [
       "array([[ 0.03305785,  0.01652893, -0.01652893,  0.02479339],\n",
       "       [ 0.02479339, -0.05785124,  0.09090909, -0.03305785],\n",
       "       [ 0.03305785,  0.02479339,  0.00826446,  0.        ],\n",
       "       [ 0.08264463,  0.        ,  0.02479339,  0.01652893]])"
      ]
     },
     "execution_count": 12,
     "metadata": {},
     "output_type": "execute_result"
    }
   ],
   "source": [
    "Aguess = np.transpose(A)/np.max(np.abs(A))**2\n",
    "Aguess"
   ]
  },
  {
   "cell_type": "code",
   "execution_count": 13,
   "metadata": {},
   "outputs": [
    {
     "name": "stdout",
     "output_type": "stream",
     "text": [
      "number of iterations =  16\n"
     ]
    },
    {
     "data": {
      "text/plain": [
       "array([[-0.59487179,  0.46153846,  0.99487179,  1.48205128],\n",
       "       [-0.22051282,  0.15384615,  0.42051282,  0.47179487],\n",
       "       [-0.11794872,  0.38461538,  0.31794872,  0.11282051],\n",
       "       [ 0.45128205, -0.38461538, -0.65128205, -0.77948718]])"
      ]
     },
     "execution_count": 13,
     "metadata": {},
     "output_type": "execute_result"
    }
   ],
   "source": [
    "Ainv = iter_inverse(A, Aguess)\n",
    "Ainv"
   ]
  },
  {
   "cell_type": "code",
   "execution_count": 15,
   "metadata": {},
   "outputs": [
    {
     "name": "stdout",
     "output_type": "stream",
     "text": [
      "[[  1.00000000e+00   3.55271368e-15   5.55111512e-16  -8.88178420e-16]\n",
      " [ -6.66133815e-16   1.00000000e+00   3.88578059e-16  -1.11022302e-16]\n",
      " [ -6.10622664e-16   8.88178420e-16   1.00000000e+00  -2.22044605e-16]\n",
      " [  8.88178420e-16  -2.22044605e-15  -3.33066907e-16   1.00000000e+00]]\n"
     ]
    }
   ],
   "source": [
    "print(Ainv @ A)"
   ]
  },
  {
   "cell_type": "markdown",
   "metadata": {},
   "source": [
    "We see that this is close to the identity matrix, with the off-diagonal elements basically machine epsilon."
   ]
  },
  {
   "cell_type": "code",
   "execution_count": null,
   "metadata": {
    "collapsed": true
   },
   "outputs": [],
   "source": []
  }
 ],
 "metadata": {
  "kernelspec": {
   "display_name": "Python 3",
   "language": "python",
   "name": "python3"
  },
  "language_info": {
   "codemirror_mode": {
    "name": "ipython",
    "version": 3
   },
   "file_extension": ".py",
   "mimetype": "text/x-python",
   "name": "python",
   "nbconvert_exporter": "python",
   "pygments_lexer": "ipython3",
   "version": "3.6.2"
  }
 },
 "nbformat": 4,
 "nbformat_minor": 2
}
